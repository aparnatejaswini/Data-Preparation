{
 "cells": [
  {
   "cell_type": "markdown",
   "metadata": {},
   "source": [
    "<strong>  Majority Class:</strong> More than half of the examples belong to this class. Ex: Normal cases(-ve case) <br>\n",
    "<strong>  Minority Class:</strong> Less than half of the examples belong to this class. Ex: Abnormal cases (+ve case) <br>\n",
    "<br>\n",
    "Slight Imbalance: 4:6<br>\n",
    "Severe Imbalance: 1:100<br>\n",
    "<br>\n",
    "<br>\n",
    "Examples:\n",
    "- Fraud Detection\n",
    "- Intrusion Detection\n",
    "\n",
    "\n"
   ]
  },
  {
   "cell_type": "markdown",
   "metadata": {},
   "source": [
    "The make_classification() scikit-learn function can be used to define a synthetic dataset with a desired class imbalance. The “weights” argument specifies the ratio of examples in the negative class, e.g. [0.99, 0.01] means that 99 percent of the examples will belong to the majority class, and the remaining 1 percent will belong to the minority class."
   ]
  },
  {
   "cell_type": "code",
   "execution_count": 1,
   "metadata": {},
   "outputs": [
    {
     "name": "stdout",
     "output_type": "stream",
     "text": [
      "Counter({0: 900, 1: 100})\n"
     ]
    },
    {
     "data": {
      "image/png": "[encoded data removed]",
      "text/plain": [
       "<Figure size 432x288 with 1 Axes>"
      ]
     },
     "metadata": {
      "needs_background": "light"
     },
     "output_type": "display_data"
    }
   ],
   "source": [
    "from sklearn.datasets import make_classification\n",
    "from matplotlib import pyplot as plt\n",
    "from numpy import where\n",
    "from collections import Counter\n",
    "#define dataset\n",
    "X, y = make_classification(n_samples=1000, n_features=2, n_redundant=0, n_clusters_per_class=1, weights=[0.90, 0.10], flip_y=0)\n",
    "#summerize class distribution\n",
    "counter = Counter(y)\n",
    "print(counter)\n",
    "#scatter plot of examples by class label\n",
    "for label, _ in counter.items():\n",
    "    row_ix = where(y==label)[0]\n",
    "    plt.scatter(X[row_ix, 0], X[row_ix, 1], label=str(label))\n",
    "plt.legend()\n",
    "plt.show()\n"
   ]
  },
  {
   "cell_type": "markdown",
   "metadata": {},
   "source": [
    "# Evaluating an Imbalanced dataset\n",
    "\n",
    "Prediction accuracy is the most common metric for classification tasks, although it is inappropriate and potentially dangerously misleading when used on imbalanced classification tasks.<br><br>\n",
    "Precision calculates the ratio of the number of correctly predicted positive examples divided by the total number of positive examples that were predicted. Maximizing the precision will minimize the false positives.\n",
    "\n",
    "     Precision = TruePositives / (TruePositives + FalsePositives)\n",
    "<br>\n",
    "Recall predicts the ratio of the total number of correctly predicted positive examples divided by the total number of positive examples that could have been predicted. Maximizing recall will minimize false negatives.\n",
    "\n",
    "     Recall = TruePositives / (TruePositives + FalseNegatives)\n",
    "<br>\n",
    "The performance of a model can be summarized by a single score that averages both the precision and the recall, called the F-Measure. Maximizing the F-Measure will maximize both the precision and recall at the same time.\n",
    "\n",
    "     F1-Score = (2 * Precision * Recall) / (Precision + Recall)\n"
   ]
  },
  {
   "cell_type": "code",
   "execution_count": 2,
   "metadata": {
    "scrolled": true
   },
   "outputs": [
    {
     "name": "stdout",
     "output_type": "stream",
     "text": [
      "accuracy score:  0.9566666666666667\n",
      "Precision score:  0.84\n",
      "Recall Score:  0.7\n",
      "F1 Score:  0.7636363636363636\n",
      "Confusion Matrix: \n",
      " [[266   4]\n",
      " [  9  21]]\n"
     ]
    }
   ],
   "source": [
    "#Basic model 1\n",
    "\n",
    "from sklearn.model_selection import train_test_split\n",
    "from sklearn.linear_model import LogisticRegression\n",
    "from sklearn.metrics import accuracy_score\n",
    "from sklearn.metrics import f1_score\n",
    "from sklearn.metrics import precision_score\n",
    "from sklearn.metrics import recall_score\n",
    "from sklearn.metrics import confusion_matrix\n",
    "\n",
    "train_X, test_X, train_y, test_y = train_test_split(X, y, test_size=0.3, stratify=y)\n",
    "model1 = LogisticRegression()\n",
    "model1.fit(train_X, train_y)\n",
    "y_pred = model1.predict(test_X)\n",
    "\n",
    "print(\"accuracy score: \", accuracy_score(test_y, y_pred))\n",
    "print(\"Precision score: \", precision_score(test_y, y_pred))\n",
    "print(\"Recall Score: \", recall_score(test_y, y_pred))\n",
    "print(\"F1 Score: \", f1_score(test_y, y_pred))\n",
    "print(\"Confusion Matrix: \\n\", confusion_matrix(test_y, y_pred))"
   ]
  },
  {
   "cell_type": "markdown",
   "metadata": {},
   "source": [
    "##   Undersampling the majority class\n",
    "\n",
    "- A possible downside is that examples from the majority class that are helpful during modeling may be deleted."
   ]
  },
  {
   "cell_type": "code",
   "execution_count": 3,
   "metadata": {},
   "outputs": [
    {
     "name": "stdout",
     "output_type": "stream",
     "text": [
      "Requirement already satisfied: imbalanced-learn in c:\\users\\user\\anaconda3\\lib\\site-packages (0.8.0)\n",
      "Requirement already satisfied: joblib>=0.11 in c:\\users\\user\\anaconda3\\lib\\site-packages (from imbalanced-learn) (0.17.0)\n",
      "Requirement already satisfied: scipy>=0.19.1 in c:\\users\\user\\anaconda3\\lib\\site-packages (from imbalanced-learn) (1.5.2)\n",
      "Requirement already satisfied: numpy>=1.13.3 in c:\\users\\user\\anaconda3\\lib\\site-packages (from imbalanced-learn) (1.19.2)\n",
      "Requirement already satisfied: scikit-learn>=0.24 in c:\\users\\user\\anaconda3\\lib\\site-packages (from imbalanced-learn) (0.24.1)\n",
      "Requirement already satisfied: threadpoolctl>=2.0.0 in c:\\users\\user\\anaconda3\\lib\\site-packages (from scikit-learn>=0.24->imbalanced-learn) (2.1.0)\n",
      "Note: you may need to restart the kernel to use updated packages.\n"
     ]
    }
   ],
   "source": [
    "pip install imbalanced-learn"
   ]
  },
  {
   "cell_type": "code",
   "execution_count": 4,
   "metadata": {},
   "outputs": [
    {
     "name": "stdout",
     "output_type": "stream",
     "text": [
      "Counter({0: 200, 1: 100})\n",
      "accuracy score:  0.8777777777777778\n",
      "Precision score:  0.7878787878787878\n",
      "Recall Score:  0.8666666666666667\n",
      "F1 Score:  0.8253968253968254\n",
      "Confusion Matrix: \n",
      " [[53  7]\n",
      " [ 4 26]]\n"
     ]
    }
   ],
   "source": [
    "from imblearn.under_sampling import RandomUnderSampler\n",
    "\n",
    "undersampler = RandomUnderSampler(sampling_strategy =0.5)\n",
    "x_under, y_under = undersampler.fit_resample(X, y)\n",
    "print(Counter(y_under))\n",
    "\n",
    "# model 2\n",
    "train_X, test_X, train_y, test_y = train_test_split(x_under, y_under, test_size=0.3, stratify=y_under)\n",
    "model2 = LogisticRegression()\n",
    "model2.fit(train_X, train_y)\n",
    "y_pred = model2.predict(test_X)\n",
    "\n",
    "print(\"accuracy score: \", accuracy_score(test_y, y_pred))\n",
    "print(\"Precision score: \", precision_score(test_y, y_pred))\n",
    "print(\"Recall Score: \", recall_score(test_y, y_pred))\n",
    "print(\"F1 Score: \", f1_score(test_y, y_pred))\n",
    "print(\"Confusion Matrix: \\n\", confusion_matrix(test_y, y_pred))"
   ]
  },
  {
   "cell_type": "markdown",
   "metadata": {},
   "source": [
    "# Oversampling the minority class\n",
    "\n",
    "Duplicating examples in the minority class do not add any new information. Instead, new examples from the minority can be synthesized using existing examples in the training dataset. These new examples will be “close” to existing examples in the feature space, but different in small but random ways.<br>\n",
    "\n",
    "The <strong>SMOTE</strong> algorithm is a popular approach for oversampling the minority class. This technique can be used to reduce the imbalance or to make the class distribution even."
   ]
  },
  {
   "cell_type": "code",
   "execution_count": 5,
   "metadata": {},
   "outputs": [
    {
     "name": "stdout",
     "output_type": "stream",
     "text": [
      "Counter({0: 900, 1: 450})\n",
      "accuracy score:  0.9555555555555556\n",
      "Precision score:  0.9398496240601504\n",
      "Recall Score:  0.9259259259259259\n",
      "F1 Score:  0.9328358208955223\n",
      "Confusion Matrix: \n",
      " [[262   8]\n",
      " [ 10 125]]\n"
     ]
    }
   ],
   "source": [
    "from imblearn.over_sampling import SMOTE\n",
    "oversample = SMOTE(sampling_strategy=0.5)\n",
    "x_over, y_over = oversample.fit_resample(X, y)\n",
    "print(Counter(y_over))\n",
    "# model 3\n",
    "train_X, test_X, train_y, test_y = train_test_split(x_over, y_over, test_size=0.3, stratify=y_over)\n",
    "model3 = LogisticRegression()\n",
    "model3.fit(train_X, train_y)\n",
    "y_pred = model3.predict(test_X)\n",
    "\n",
    "print(\"accuracy score: \", accuracy_score(test_y, y_pred))\n",
    "print(\"Precision score: \", precision_score(test_y, y_pred))\n",
    "print(\"Recall Score: \", recall_score(test_y, y_pred))\n",
    "print(\"F1 Score: \", f1_score(test_y, y_pred))\n",
    "print(\"Confusion Matrix: \\n\", confusion_matrix(test_y, y_pred))"
   ]
  },
  {
   "cell_type": "code",
   "execution_count": 6,
   "metadata": {},
   "outputs": [
    {
     "name": "stdout",
     "output_type": "stream",
     "text": [
      "Counter({0: 900, 1: 450})\n",
      "accuracy score:  0.9012345679012346\n",
      "Precision score:  0.8275862068965517\n",
      "Recall Score:  0.8888888888888888\n",
      "F1 Score:  0.8571428571428572\n",
      "Confusion Matrix: \n",
      " [[245  25]\n",
      " [ 15 120]]\n"
     ]
    }
   ],
   "source": [
    "from imblearn.over_sampling import RandomOverSampler\n",
    "oversampler = RandomOverSampler(sampling_strategy=0.5)\n",
    "x_rover, y_rover = oversampler.fit_resample(X,y)\n",
    "print(Counter(y_over))\n",
    "# model 4\n",
    "train_X, test_X, train_y, test_y = train_test_split(x_rover, y_rover, test_size=0.3, stratify=y_rover)\n",
    "model4 = LogisticRegression()\n",
    "model4.fit(train_X, train_y)\n",
    "y_pred = model4.predict(test_X)\n",
    "\n",
    "print(\"accuracy score: \", accuracy_score(test_y, y_pred))\n",
    "print(\"Precision score: \", precision_score(test_y, y_pred))\n",
    "print(\"Recall Score: \", recall_score(test_y, y_pred))\n",
    "print(\"F1 Score: \", f1_score(test_y, y_pred))\n",
    "print(\"Confusion Matrix: \\n\", confusion_matrix(test_y, y_pred))"
   ]
  },
  {
   "cell_type": "markdown",
   "metadata": {},
   "source": [
    "# Combining data undersampling and oversampling\n",
    "\n",
    "Data undersampling will delete examples from the majority class, whereas data oversampling will add examples to the minority class. These two approaches can be combined and used on a single training dataset. <br><br>\n",
    "Example below uses the <strong>SMOTEENN</strong> that combines both <strong>SMOTE</strong> oversampling of the minority class and <strong>Edited Nearest Neighbor</strong>s undersampling of the majority class."
   ]
  },
  {
   "cell_type": "code",
   "execution_count": 7,
   "metadata": {},
   "outputs": [
    {
     "name": "stdout",
     "output_type": "stream",
     "text": [
      "Counter({0: 820, 1: 369})\n",
      "accuracy score:  0.9775910364145658\n",
      "Precision score:  0.9813084112149533\n",
      "Recall Score:  0.9459459459459459\n",
      "F1 Score:  0.963302752293578\n",
      "Confusion Matrix: \n",
      " [[244   2]\n",
      " [  6 105]]\n"
     ]
    }
   ],
   "source": [
    "from imblearn.combine import SMOTEENN\n",
    "combine = SMOTEENN(sampling_strategy=0.5)\n",
    "x_c, y_c = combine.fit_resample(X,y)\n",
    "print(Counter(y_c))\n",
    "#model 5\n",
    "train_X, test_X, train_y, test_y = train_test_split(x_c, y_c, test_size=0.3, stratify=y_c)\n",
    "model5 = LogisticRegression(random_state=0)\n",
    "model5.fit(train_X, train_y)\n",
    "y_pred = model5.predict(test_X)\n",
    "\n",
    "print(\"accuracy score: \", accuracy_score(test_y, y_pred))\n",
    "print(\"Precision score: \", precision_score(test_y, y_pred))\n",
    "print(\"Recall Score: \", recall_score(test_y, y_pred))\n",
    "print(\"F1 Score: \", f1_score(test_y, y_pred))\n",
    "print(\"Confusion Matrix: \\n\", confusion_matrix(test_y, y_pred))"
   ]
  },
  {
   "cell_type": "code",
   "execution_count": 8,
   "metadata": {},
   "outputs": [
    {
     "name": "stdout",
     "output_type": "stream",
     "text": [
      "Counter({0: 900, 1: 450})\n",
      "accuracy score:  0.9061728395061729\n",
      "Precision score:  0.8540145985401459\n",
      "Recall Score:  0.8666666666666667\n",
      "F1 Score:  0.8602941176470588\n",
      "Confusion Matrix: \n",
      " [[250  20]\n",
      " [ 18 117]]\n"
     ]
    }
   ],
   "source": [
    "#manually try to combine both undersampling and oversampling techniques\n",
    "#apply random undersampling with random oversampler\n",
    "x_ou, y_ou = undersampler.fit_resample(x_rover,y_rover) \n",
    "print(Counter(y_ou))\n",
    "#model 6\n",
    "train_X, test_X, train_y, test_y = train_test_split(x_ou, y_ou, test_size=0.3, stratify=y_ou)\n",
    "model6 = LogisticRegression(random_state=0)\n",
    "model6.fit(train_X, train_y)\n",
    "y_pred = model6.predict(test_X)\n",
    "\n",
    "print(\"accuracy score: \", accuracy_score(test_y, y_pred))\n",
    "print(\"Precision score: \", precision_score(test_y, y_pred))\n",
    "print(\"Recall Score: \", recall_score(test_y, y_pred))\n",
    "print(\"F1 Score: \", f1_score(test_y, y_pred))\n",
    "print(\"Confusion Matrix: \\n\", confusion_matrix(test_y, y_pred))"
   ]
  },
  {
   "cell_type": "markdown",
   "metadata": {},
   "source": [
    "# Cost sensitive algorithms\n",
    "\n",
    "Cost-sensitive learning is a subfield of machine learning that takes the costs of prediction errors (and potentially other costs) into account when training a machine learning model. Many machine learning algorithms can be updated to be cost-sensitive, where the model is penalized for misclassification errors from one class more than the other, such as the minority class.\n",
    "<br><br>\n",
    "The scikit-learn library provides this capability for a range of algorithms via the class_weight attribute specified when defining the model. A weighting can be specified that is inversely proportional to the class distribution.\n",
    "<br><br>\n",
    "If the class distribution was 0.99 to 0.01 for the majority and minority classes, then the class_weight argument could be defined as a dictionary that defines a penalty of 0.01 for errors made for the majority class and a penalty of 0.99 for errors made with the minority class, e.g. {0:0.01, 1:0.99}.\n",
    "<br><br>\n",
    "This is a useful heuristic and can be configured automatically by setting the class_weight argument to the string ‘balanced‘."
   ]
  },
  {
   "cell_type": "code",
   "execution_count": 9,
   "metadata": {},
   "outputs": [
    {
     "name": "stdout",
     "output_type": "stream",
     "text": [
      "accuracy score:  0.9366666666666666\n",
      "Precision score:  0.6170212765957447\n",
      "Recall Score:  0.9666666666666667\n",
      "F1 Score:  0.7532467532467533\n",
      "Confusion Matrix: \n",
      " [[252  18]\n",
      " [  1  29]]\n"
     ]
    }
   ],
   "source": [
    "#cost sensitive logistic regression with original data X, y\n",
    "#model 7\n",
    "train_X, test_X, train_y, test_y = train_test_split(X, y, test_size=0.3, stratify=y)\n",
    "model7 = LogisticRegression(class_weight='balanced')\n",
    "model7.fit(train_X, train_y)\n",
    "y_pred = model7.predict(test_X)\n",
    "\n",
    "print(\"accuracy score: \", accuracy_score(test_y, y_pred))\n",
    "print(\"Precision score: \", precision_score(test_y, y_pred))\n",
    "print(\"Recall Score: \", recall_score(test_y, y_pred))\n",
    "print(\"F1 Score: \", f1_score(test_y, y_pred))\n",
    "print(\"Confusion Matrix: \\n\", confusion_matrix(test_y, y_pred))"
   ]
  },
  {
   "cell_type": "code",
   "execution_count": null,
   "metadata": {},
   "outputs": [],
   "source": []
  },
  {
   "cell_type": "code",
   "execution_count": null,
   "metadata": {},
   "outputs": [],
   "source": []
  },
  {
   "cell_type": "code",
   "execution_count": null,
   "metadata": {},
   "outputs": [],
   "source": []
  },
  {
   "cell_type": "code",
   "execution_count": null,
   "metadata": {},
   "outputs": [],
   "source": []
  },
  {
   "cell_type": "code",
   "execution_count": null,
   "metadata": {},
   "outputs": [],
   "source": []
  },
  {
   "cell_type": "code",
   "execution_count": null,
   "metadata": {},
   "outputs": [],
   "source": []
  }
 ],
 "metadata": {
  "kernelspec": {
   "display_name": "Python 3 (ipykernel)",
   "language": "python",
   "name": "python3"
  },
  "language_info": {
   "codemirror_mode": {
    "name": "ipython",
    "version": 3
   },
   "file_extension": ".py",
   "mimetype": "text/x-python",
   "name": "python",
   "nbconvert_exporter": "python",
   "pygments_lexer": "ipython3",
   "version": "3.9.7"
  }
 },
 "nbformat": 4,
 "nbformat_minor": 4
}
